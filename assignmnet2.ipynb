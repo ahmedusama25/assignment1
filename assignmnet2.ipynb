{
 "cells": [
  {
   "cell_type": "code",
   "execution_count": 1,
   "metadata": {},
   "outputs": [
    {
     "name": "stdout",
     "output_type": "stream",
     "text": [
      "enter marks of 1st subject out of 100:90\n",
      "enter marks of 2nd subject out of 100:6\n",
      "enter marks of 3rd subject out of 100:86\n",
      "enter marks of 4th subject out of 100:33\n",
      "enter marks of 5th subject out of 100:49\n",
      "52.8 :C grade\n"
     ]
    }
   ],
   "source": [
    "#question no 1\n",
    "inp1=int(input(\"enter marks of 1st subject out of 100:\"))\n",
    "inp2=int(input(\"enter marks of 2nd subject out of 100:\"))\n",
    "inp3=int(input(\"enter marks of 3rd subject out of 100:\"))\n",
    "inp4=int(input(\"enter marks of 4th subject out of 100:\"))\n",
    "inp5=int(input(\"enter marks of 5th subject out of 100:\"))\n",
    "total1=(inp1+inp2+inp3+inp4+inp5)/5\n",
    "if total1>=80:\n",
    "    print(total1,\":A-1 grade\")\n",
    "elif 80>total1>=70:\n",
    "    print(total1,\":A grade\")\n",
    "elif 70>total1>=60:\n",
    "    print(total1,\":B grade\")\n",
    "elif 60>total1>=50:\n",
    "    print(total1,\":C grade\")\n",
    "else:\n",
    "    print(total1,\"F\")"
   ]
  },
  {
   "cell_type": "code",
   "execution_count": 2,
   "metadata": {},
   "outputs": [
    {
     "name": "stdout",
     "output_type": "stream",
     "text": [
      "enter a number56\n",
      "it's an even no.\n"
     ]
    }
   ],
   "source": [
    "#question no. 2\n",
    "inp1=int(input(\"enter a number\"))\n",
    "if (inp1%2)==0:\n",
    "    print(\"it's an even no.\")\n",
    "else:\n",
    "    print(\"its a odd no.\")"
   ]
  },
  {
   "cell_type": "code",
   "execution_count": 3,
   "metadata": {},
   "outputs": [
    {
     "name": "stdout",
     "output_type": "stream",
     "text": [
      "7\n"
     ]
    }
   ],
   "source": [
    "#question no. 3\n",
    "arr=[1,2,3,3,4,5,'lol']\n",
    "print(len(arr))"
   ]
  },
  {
   "cell_type": "code",
   "execution_count": 4,
   "metadata": {},
   "outputs": [
    {
     "name": "stdout",
     "output_type": "stream",
     "text": [
      "18\n"
     ]
    }
   ],
   "source": [
    "#question no. 4\n",
    "arr=[1,2,3,3,4,5]\n",
    "print(sum(arr))\n"
   ]
  },
  {
   "cell_type": "code",
   "execution_count": 5,
   "metadata": {},
   "outputs": [
    {
     "name": "stdout",
     "output_type": "stream",
     "text": [
      "5\n"
     ]
    }
   ],
   "source": [
    "#question no. 5\n",
    "arr=[1,2,3,3,4,5]\n",
    "print(max(arr))"
   ]
  },
  {
   "cell_type": "code",
   "execution_count": 6,
   "metadata": {},
   "outputs": [
    {
     "name": "stdout",
     "output_type": "stream",
     "text": [
      "[1, 1, 2, 3, 4]\n"
     ]
    }
   ],
   "source": [
    "#question no. 6\n",
    "a = [1, 1, 2, 3, 5, 8, 13, 21, 4, 55, 89]\n",
    "new_list = []\n",
    "for item in a:\n",
    "  if item < 5:\n",
    "    new_list.append(item)\n",
    "print(new_list)"
   ]
  },
  {
   "cell_type": "code",
   "execution_count": null,
   "metadata": {},
   "outputs": [],
   "source": []
  }
 ],
 "metadata": {
  "kernelspec": {
   "display_name": "Python 3",
   "language": "python",
   "name": "python3"
  },
  "language_info": {
   "codemirror_mode": {
    "name": "ipython",
    "version": 3
   },
   "file_extension": ".py",
   "mimetype": "text/x-python",
   "name": "python",
   "nbconvert_exporter": "python",
   "pygments_lexer": "ipython3",
   "version": "3.7.4"
  }
 },
 "nbformat": 4,
 "nbformat_minor": 2
}
