{
 "cells": [
  {
   "cell_type": "code",
   "execution_count": 2,
   "metadata": {},
   "outputs": [
    {
     "name": "stdout",
     "output_type": "stream",
     "text": [
      "Twinkle, twinkle, little star, \n",
      "     How I wonder what you are!\n",
      "           Up above the world so high,\n",
      "           Like a diamond in the sky.\n",
      "Twinkle, twinkle, little star,\n",
      "     How I wonder what you are\n"
     ]
    }
   ],
   "source": [
    "print('Twinkle, twinkle, little star, \\n     How I wonder what you are!\\n           Up above the world so high,\\n           Like a diamond in the sky.\\nTwinkle, twinkle, little star,\\n     How I wonder what you are')\n"
   ]
  },
  {
   "cell_type": "code",
   "execution_count": 3,
   "metadata": {},
   "outputs": [
    {
     "name": "stdout",
     "output_type": "stream",
     "text": [
      "3.7.4 (default, Aug  9 2019, 18:34:13) [MSC v.1915 64 bit (AMD64)]\n"
     ]
    }
   ],
   "source": [
    "import sys\n",
    "print(sys.version)"
   ]
  },
  {
   "cell_type": "code",
   "execution_count": 4,
   "metadata": {},
   "outputs": [
    {
     "name": "stdout",
     "output_type": "stream",
     "text": [
      "Current date and time : \n",
      "2019-11-04 19:48:39\n"
     ]
    }
   ],
   "source": [
    "import datetime\n",
    "now = datetime.datetime.now()\n",
    "print (\"Current date and time : \")\n",
    "print (now.strftime(\"%Y-%m-%d %H:%M:%S\"))\n"
   ]
  },
  {
   "cell_type": "code",
   "execution_count": 5,
   "metadata": {},
   "outputs": [
    {
     "name": "stdout",
     "output_type": "stream",
     "text": [
      "enter the radius of the circle:5\n",
      "78.53981633974483\n"
     ]
    }
   ],
   "source": [
    "import math\n",
    "A=0\n",
    "inp=input('enter the radius of the circle:')\n",
    "A= math.pi*int(inp)**2 \n",
    "print(A)\n"
   ]
  },
  {
   "cell_type": "code",
   "execution_count": 6,
   "metadata": {},
   "outputs": [
    {
     "name": "stdout",
     "output_type": "stream",
     "text": [
      "first name:ahmed\n",
      "last name:usama\n",
      "usama ahmed\n"
     ]
    }
   ],
   "source": [
    "import math\n",
    "inp=str(input('first name:'))\n",
    "inp1=str(input('last name:')) \n",
    "print(inp1+\" \"+inp)\n"
   ]
  },
  {
   "cell_type": "code",
   "execution_count": 8,
   "metadata": {},
   "outputs": [
    {
     "name": "stdout",
     "output_type": "stream",
     "text": [
      "first no.:3\n",
      "last no.:4\n",
      "answer: 7\n"
     ]
    }
   ],
   "source": [
    "import math\n",
    "inp=int(input('first no.:'))\n",
    "inp1=int(input('last no.:')) \n",
    "print('answer:',inp1+inp)\n"
   ]
  },
  {
   "cell_type": "code",
   "execution_count": null,
   "metadata": {},
   "outputs": [],
   "source": []
  }
 ],
 "metadata": {
  "kernelspec": {
   "display_name": "Python 3",
   "language": "python",
   "name": "python3"
  },
  "language_info": {
   "codemirror_mode": {
    "name": "ipython",
    "version": 3
   },
   "file_extension": ".py",
   "mimetype": "text/x-python",
   "name": "python",
   "nbconvert_exporter": "python",
   "pygments_lexer": "ipython3",
   "version": "3.7.4"
  }
 },
 "nbformat": 4,
 "nbformat_minor": 2
}
